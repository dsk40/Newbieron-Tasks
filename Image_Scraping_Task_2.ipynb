{
  "cells": [
    {
      "cell_type": "markdown",
      "metadata": {
        "id": "view-in-github",
        "colab_type": "text"
      },
      "source": [
        "<a href=\"https://colab.research.google.com/github/dsk40/Newbieron-Tasks/blob/main/Image_Scraping_Task_2.ipynb\" target=\"_parent\"><img src=\"https://colab.research.google.com/assets/colab-badge.svg\" alt=\"Open In Colab\"/></a>"
      ]
    },
    {
      "cell_type": "markdown",
      "source": [
        "Importing libraries"
      ],
      "metadata": {
        "id": "coSMGaQlIcwQ"
      },
      "id": "coSMGaQlIcwQ"
    },
    {
      "cell_type": "code",
      "execution_count": 1,
      "id": "6a411ce3",
      "metadata": {
        "id": "6a411ce3"
      },
      "outputs": [],
      "source": [
        "import requests\n",
        "from bs4 import BeautifulSoup\n",
        "import os"
      ]
    },
    {
      "cell_type": "markdown",
      "source": [
        "Getting the image URLs for the given item name"
      ],
      "metadata": {
        "id": "_M--VVOOInpK"
      },
      "id": "_M--VVOOInpK"
    },
    {
      "cell_type": "code",
      "execution_count": 2,
      "id": "632a2cc1",
      "metadata": {
        "id": "632a2cc1"
      },
      "outputs": [],
      "source": [
        "def get_image_urls(item_name):\n",
        "    url = \"https://www.google.com/search?q=\" + item_name + \"+images\"\n",
        "    response = requests.get(url)\n",
        "    soup = BeautifulSoup(response.content, \"html.parser\")\n",
        "    image_urls = []\n",
        "    for img in soup.findAll(\"img\"):\n",
        "        image_url = img[\"src\"]\n",
        "        image_urls.append(image_url)\n",
        "    return image_urls"
      ]
    },
    {
      "cell_type": "markdown",
      "source": [
        "Downloading the images to the given download directory"
      ],
      "metadata": {
        "id": "EP2lGVnXIw_9"
      },
      "id": "EP2lGVnXIw_9"
    },
    {
      "cell_type": "code",
      "execution_count": 3,
      "id": "0d781ce8",
      "metadata": {
        "id": "0d781ce8"
      },
      "outputs": [],
      "source": [
        "def download_images(image_urls, download_directory):\n",
        "    for i, image_url in enumerate(image_urls):\n",
        "        if not image_url.startswith(\"data:image\"):\n",
        "            filename = image_url.split(\"/\")[-1]\n",
        "            filepath = os.path.join(download_directory, filename)\n",
        "            response = requests.get(image_url)\n",
        "            with open(filepath, \"wb\") as f:\n",
        "                f.write(response.content)"
      ]
    },
    {
      "cell_type": "code",
      "execution_count": 4,
      "id": "85bef433",
      "metadata": {
        "colab": {
          "base_uri": "https://localhost:8080/"
        },
        "id": "85bef433",
        "outputId": "d747e7c4-be72-4a69-aefe-5cc1df213756"
      },
      "outputs": [
        {
          "name": "stdout",
          "output_type": "stream",
          "text": [
            "Enter the item name: sundar pichai\n",
            "Enter the download directory: /content/Downloads\n"
          ]
        }
      ],
      "source": [
        "if __name__ == \"__main__\":\n",
        "    item_name = input(\"Enter the item name: \")\n",
        "    download_directory = input(\"Enter the download directory: \")\n",
        "    image_urls = get_image_urls(item_name)\n",
        "    download_images(image_urls, download_directory)\n"
      ]
    }
  ],
  "metadata": {
    "kernelspec": {
      "display_name": "Python 3 (ipykernel)",
      "language": "python",
      "name": "python3"
    },
    "language_info": {
      "codemirror_mode": {
        "name": "ipython",
        "version": 3
      },
      "file_extension": ".py",
      "mimetype": "text/x-python",
      "name": "python",
      "nbconvert_exporter": "python",
      "pygments_lexer": "ipython3",
      "version": "3.10.9"
    },
    "colab": {
      "provenance": [],
      "include_colab_link": true
    }
  },
  "nbformat": 4,
  "nbformat_minor": 5
}